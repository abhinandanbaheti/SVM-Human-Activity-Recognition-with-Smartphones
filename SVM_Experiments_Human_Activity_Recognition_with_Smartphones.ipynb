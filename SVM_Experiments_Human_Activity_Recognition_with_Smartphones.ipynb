{
 "cells": [
  {
   "cell_type": "code",
   "execution_count": 0,
   "metadata": {
    "colab": {},
    "colab_type": "code",
    "id": "9FaSmPWAJ3Jl"
   },
   "outputs": [],
   "source": [
    "SVM Experiments - https://www.kaggle.com/uciml/human-activity-recognition-with-smartphones"
   ]
  },
  {
   "cell_type": "code",
   "execution_count": 0,
   "metadata": {
    "colab": {},
    "colab_type": "code",
    "id": "EHRi66zpLEn1"
   },
   "outputs": [],
   "source": [
    "import pandas as pd\n",
    "import seaborn as sns\n",
    "import matplotlib.pyplot as plt\n"
   ]
  },
  {
   "cell_type": "code",
   "execution_count": 2,
   "metadata": {
    "colab": {
     "base_uri": "https://localhost:8080/",
     "height": 287
    },
    "colab_type": "code",
    "id": "uS2NFtNlLJ7I",
    "outputId": "fd1ad91c-65c1-4a82-fb0f-76450b46c41f"
   },
   "outputs": [
    {
     "data": {
      "text/html": [
       "<div>\n",
       "<style scoped>\n",
       "    .dataframe tbody tr th:only-of-type {\n",
       "        vertical-align: middle;\n",
       "    }\n",
       "\n",
       "    .dataframe tbody tr th {\n",
       "        vertical-align: top;\n",
       "    }\n",
       "\n",
       "    .dataframe thead th {\n",
       "        text-align: right;\n",
       "    }\n",
       "</style>\n",
       "<table border=\"1\" class=\"dataframe\">\n",
       "  <thead>\n",
       "    <tr style=\"text-align: right;\">\n",
       "      <th></th>\n",
       "      <th>tBodyAcc-mean()-X</th>\n",
       "      <th>tBodyAcc-mean()-Y</th>\n",
       "      <th>tBodyAcc-mean()-Z</th>\n",
       "      <th>tBodyAcc-std()-X</th>\n",
       "      <th>tBodyAcc-std()-Y</th>\n",
       "      <th>tBodyAcc-std()-Z</th>\n",
       "      <th>tBodyAcc-mad()-X</th>\n",
       "      <th>tBodyAcc-mad()-Y</th>\n",
       "      <th>tBodyAcc-mad()-Z</th>\n",
       "      <th>tBodyAcc-max()-X</th>\n",
       "      <th>tBodyAcc-max()-Y</th>\n",
       "      <th>tBodyAcc-max()-Z</th>\n",
       "      <th>tBodyAcc-min()-X</th>\n",
       "      <th>tBodyAcc-min()-Y</th>\n",
       "      <th>tBodyAcc-min()-Z</th>\n",
       "      <th>tBodyAcc-sma()</th>\n",
       "      <th>tBodyAcc-energy()-X</th>\n",
       "      <th>tBodyAcc-energy()-Y</th>\n",
       "      <th>tBodyAcc-energy()-Z</th>\n",
       "      <th>tBodyAcc-iqr()-X</th>\n",
       "      <th>tBodyAcc-iqr()-Y</th>\n",
       "      <th>tBodyAcc-iqr()-Z</th>\n",
       "      <th>tBodyAcc-entropy()-X</th>\n",
       "      <th>tBodyAcc-entropy()-Y</th>\n",
       "      <th>tBodyAcc-entropy()-Z</th>\n",
       "      <th>tBodyAcc-arCoeff()-X,1</th>\n",
       "      <th>tBodyAcc-arCoeff()-X,2</th>\n",
       "      <th>tBodyAcc-arCoeff()-X,3</th>\n",
       "      <th>tBodyAcc-arCoeff()-X,4</th>\n",
       "      <th>tBodyAcc-arCoeff()-Y,1</th>\n",
       "      <th>tBodyAcc-arCoeff()-Y,2</th>\n",
       "      <th>tBodyAcc-arCoeff()-Y,3</th>\n",
       "      <th>tBodyAcc-arCoeff()-Y,4</th>\n",
       "      <th>tBodyAcc-arCoeff()-Z,1</th>\n",
       "      <th>tBodyAcc-arCoeff()-Z,2</th>\n",
       "      <th>tBodyAcc-arCoeff()-Z,3</th>\n",
       "      <th>tBodyAcc-arCoeff()-Z,4</th>\n",
       "      <th>tBodyAcc-correlation()-X,Y</th>\n",
       "      <th>tBodyAcc-correlation()-X,Z</th>\n",
       "      <th>tBodyAcc-correlation()-Y,Z</th>\n",
       "      <th>...</th>\n",
       "      <th>fBodyBodyAccJerkMag-entropy()</th>\n",
       "      <th>fBodyBodyAccJerkMag-maxInds</th>\n",
       "      <th>fBodyBodyAccJerkMag-meanFreq()</th>\n",
       "      <th>fBodyBodyAccJerkMag-skewness()</th>\n",
       "      <th>fBodyBodyAccJerkMag-kurtosis()</th>\n",
       "      <th>fBodyBodyGyroMag-mean()</th>\n",
       "      <th>fBodyBodyGyroMag-std()</th>\n",
       "      <th>fBodyBodyGyroMag-mad()</th>\n",
       "      <th>fBodyBodyGyroMag-max()</th>\n",
       "      <th>fBodyBodyGyroMag-min()</th>\n",
       "      <th>fBodyBodyGyroMag-sma()</th>\n",
       "      <th>fBodyBodyGyroMag-energy()</th>\n",
       "      <th>fBodyBodyGyroMag-iqr()</th>\n",
       "      <th>fBodyBodyGyroMag-entropy()</th>\n",
       "      <th>fBodyBodyGyroMag-maxInds</th>\n",
       "      <th>fBodyBodyGyroMag-meanFreq()</th>\n",
       "      <th>fBodyBodyGyroMag-skewness()</th>\n",
       "      <th>fBodyBodyGyroMag-kurtosis()</th>\n",
       "      <th>fBodyBodyGyroJerkMag-mean()</th>\n",
       "      <th>fBodyBodyGyroJerkMag-std()</th>\n",
       "      <th>fBodyBodyGyroJerkMag-mad()</th>\n",
       "      <th>fBodyBodyGyroJerkMag-max()</th>\n",
       "      <th>fBodyBodyGyroJerkMag-min()</th>\n",
       "      <th>fBodyBodyGyroJerkMag-sma()</th>\n",
       "      <th>fBodyBodyGyroJerkMag-energy()</th>\n",
       "      <th>fBodyBodyGyroJerkMag-iqr()</th>\n",
       "      <th>fBodyBodyGyroJerkMag-entropy()</th>\n",
       "      <th>fBodyBodyGyroJerkMag-maxInds</th>\n",
       "      <th>fBodyBodyGyroJerkMag-meanFreq()</th>\n",
       "      <th>fBodyBodyGyroJerkMag-skewness()</th>\n",
       "      <th>fBodyBodyGyroJerkMag-kurtosis()</th>\n",
       "      <th>angle(tBodyAccMean,gravity)</th>\n",
       "      <th>angle(tBodyAccJerkMean),gravityMean)</th>\n",
       "      <th>angle(tBodyGyroMean,gravityMean)</th>\n",
       "      <th>angle(tBodyGyroJerkMean,gravityMean)</th>\n",
       "      <th>angle(X,gravityMean)</th>\n",
       "      <th>angle(Y,gravityMean)</th>\n",
       "      <th>angle(Z,gravityMean)</th>\n",
       "      <th>subject</th>\n",
       "      <th>Activity</th>\n",
       "    </tr>\n",
       "  </thead>\n",
       "  <tbody>\n",
       "    <tr>\n",
       "      <th>0</th>\n",
       "      <td>0.288585</td>\n",
       "      <td>-0.020294</td>\n",
       "      <td>-0.132905</td>\n",
       "      <td>-0.995279</td>\n",
       "      <td>-0.983111</td>\n",
       "      <td>-0.913526</td>\n",
       "      <td>-0.995112</td>\n",
       "      <td>-0.983185</td>\n",
       "      <td>-0.923527</td>\n",
       "      <td>-0.934724</td>\n",
       "      <td>-0.567378</td>\n",
       "      <td>-0.744413</td>\n",
       "      <td>0.852947</td>\n",
       "      <td>0.685845</td>\n",
       "      <td>0.814263</td>\n",
       "      <td>-0.965523</td>\n",
       "      <td>-0.999945</td>\n",
       "      <td>-0.999863</td>\n",
       "      <td>-0.994612</td>\n",
       "      <td>-0.994231</td>\n",
       "      <td>-0.987614</td>\n",
       "      <td>-0.943220</td>\n",
       "      <td>-0.407747</td>\n",
       "      <td>-0.679338</td>\n",
       "      <td>-0.602122</td>\n",
       "      <td>0.929294</td>\n",
       "      <td>-0.853011</td>\n",
       "      <td>0.359910</td>\n",
       "      <td>-0.058526</td>\n",
       "      <td>0.256892</td>\n",
       "      <td>-0.224848</td>\n",
       "      <td>0.264106</td>\n",
       "      <td>-0.095246</td>\n",
       "      <td>0.278851</td>\n",
       "      <td>-0.465085</td>\n",
       "      <td>0.491936</td>\n",
       "      <td>-0.190884</td>\n",
       "      <td>0.376314</td>\n",
       "      <td>0.435129</td>\n",
       "      <td>0.660790</td>\n",
       "      <td>...</td>\n",
       "      <td>-1.0</td>\n",
       "      <td>-0.936508</td>\n",
       "      <td>0.346989</td>\n",
       "      <td>-0.516080</td>\n",
       "      <td>-0.802760</td>\n",
       "      <td>-0.980135</td>\n",
       "      <td>-0.961309</td>\n",
       "      <td>-0.973653</td>\n",
       "      <td>-0.952264</td>\n",
       "      <td>-0.989498</td>\n",
       "      <td>-0.980135</td>\n",
       "      <td>-0.999240</td>\n",
       "      <td>-0.992656</td>\n",
       "      <td>-0.701291</td>\n",
       "      <td>-1.000000</td>\n",
       "      <td>-0.128989</td>\n",
       "      <td>0.586156</td>\n",
       "      <td>0.374605</td>\n",
       "      <td>-0.991990</td>\n",
       "      <td>-0.990697</td>\n",
       "      <td>-0.989941</td>\n",
       "      <td>-0.992448</td>\n",
       "      <td>-0.991048</td>\n",
       "      <td>-0.991990</td>\n",
       "      <td>-0.999937</td>\n",
       "      <td>-0.990458</td>\n",
       "      <td>-0.871306</td>\n",
       "      <td>-1.000000</td>\n",
       "      <td>-0.074323</td>\n",
       "      <td>-0.298676</td>\n",
       "      <td>-0.710304</td>\n",
       "      <td>-0.112754</td>\n",
       "      <td>0.030400</td>\n",
       "      <td>-0.464761</td>\n",
       "      <td>-0.018446</td>\n",
       "      <td>-0.841247</td>\n",
       "      <td>0.179941</td>\n",
       "      <td>-0.058627</td>\n",
       "      <td>1</td>\n",
       "      <td>STANDING</td>\n",
       "    </tr>\n",
       "    <tr>\n",
       "      <th>1</th>\n",
       "      <td>0.278419</td>\n",
       "      <td>-0.016411</td>\n",
       "      <td>-0.123520</td>\n",
       "      <td>-0.998245</td>\n",
       "      <td>-0.975300</td>\n",
       "      <td>-0.960322</td>\n",
       "      <td>-0.998807</td>\n",
       "      <td>-0.974914</td>\n",
       "      <td>-0.957686</td>\n",
       "      <td>-0.943068</td>\n",
       "      <td>-0.557851</td>\n",
       "      <td>-0.818409</td>\n",
       "      <td>0.849308</td>\n",
       "      <td>0.685845</td>\n",
       "      <td>0.822637</td>\n",
       "      <td>-0.981930</td>\n",
       "      <td>-0.999991</td>\n",
       "      <td>-0.999788</td>\n",
       "      <td>-0.998405</td>\n",
       "      <td>-0.999150</td>\n",
       "      <td>-0.977866</td>\n",
       "      <td>-0.948225</td>\n",
       "      <td>-0.714892</td>\n",
       "      <td>-0.500930</td>\n",
       "      <td>-0.570979</td>\n",
       "      <td>0.611627</td>\n",
       "      <td>-0.329549</td>\n",
       "      <td>0.284213</td>\n",
       "      <td>0.284595</td>\n",
       "      <td>0.115705</td>\n",
       "      <td>-0.090963</td>\n",
       "      <td>0.294310</td>\n",
       "      <td>-0.281211</td>\n",
       "      <td>0.085988</td>\n",
       "      <td>-0.022153</td>\n",
       "      <td>-0.016657</td>\n",
       "      <td>-0.220643</td>\n",
       "      <td>-0.013429</td>\n",
       "      <td>-0.072692</td>\n",
       "      <td>0.579382</td>\n",
       "      <td>...</td>\n",
       "      <td>-1.0</td>\n",
       "      <td>-0.841270</td>\n",
       "      <td>0.532061</td>\n",
       "      <td>-0.624871</td>\n",
       "      <td>-0.900160</td>\n",
       "      <td>-0.988296</td>\n",
       "      <td>-0.983322</td>\n",
       "      <td>-0.982659</td>\n",
       "      <td>-0.986321</td>\n",
       "      <td>-0.991829</td>\n",
       "      <td>-0.988296</td>\n",
       "      <td>-0.999811</td>\n",
       "      <td>-0.993979</td>\n",
       "      <td>-0.720683</td>\n",
       "      <td>-0.948718</td>\n",
       "      <td>-0.271958</td>\n",
       "      <td>-0.336310</td>\n",
       "      <td>-0.720015</td>\n",
       "      <td>-0.995854</td>\n",
       "      <td>-0.996399</td>\n",
       "      <td>-0.995442</td>\n",
       "      <td>-0.996866</td>\n",
       "      <td>-0.994440</td>\n",
       "      <td>-0.995854</td>\n",
       "      <td>-0.999981</td>\n",
       "      <td>-0.994544</td>\n",
       "      <td>-1.000000</td>\n",
       "      <td>-1.000000</td>\n",
       "      <td>0.158075</td>\n",
       "      <td>-0.595051</td>\n",
       "      <td>-0.861499</td>\n",
       "      <td>0.053477</td>\n",
       "      <td>-0.007435</td>\n",
       "      <td>-0.732626</td>\n",
       "      <td>0.703511</td>\n",
       "      <td>-0.844788</td>\n",
       "      <td>0.180289</td>\n",
       "      <td>-0.054317</td>\n",
       "      <td>1</td>\n",
       "      <td>STANDING</td>\n",
       "    </tr>\n",
       "    <tr>\n",
       "      <th>2</th>\n",
       "      <td>0.279653</td>\n",
       "      <td>-0.019467</td>\n",
       "      <td>-0.113462</td>\n",
       "      <td>-0.995380</td>\n",
       "      <td>-0.967187</td>\n",
       "      <td>-0.978944</td>\n",
       "      <td>-0.996520</td>\n",
       "      <td>-0.963668</td>\n",
       "      <td>-0.977469</td>\n",
       "      <td>-0.938692</td>\n",
       "      <td>-0.557851</td>\n",
       "      <td>-0.818409</td>\n",
       "      <td>0.843609</td>\n",
       "      <td>0.682401</td>\n",
       "      <td>0.839344</td>\n",
       "      <td>-0.983478</td>\n",
       "      <td>-0.999969</td>\n",
       "      <td>-0.999660</td>\n",
       "      <td>-0.999470</td>\n",
       "      <td>-0.997130</td>\n",
       "      <td>-0.964810</td>\n",
       "      <td>-0.974675</td>\n",
       "      <td>-0.592235</td>\n",
       "      <td>-0.485821</td>\n",
       "      <td>-0.570979</td>\n",
       "      <td>0.273025</td>\n",
       "      <td>-0.086309</td>\n",
       "      <td>0.337202</td>\n",
       "      <td>-0.164739</td>\n",
       "      <td>0.017150</td>\n",
       "      <td>-0.074507</td>\n",
       "      <td>0.342256</td>\n",
       "      <td>-0.332564</td>\n",
       "      <td>0.239281</td>\n",
       "      <td>-0.136204</td>\n",
       "      <td>0.173863</td>\n",
       "      <td>-0.299493</td>\n",
       "      <td>-0.124698</td>\n",
       "      <td>-0.181105</td>\n",
       "      <td>0.608900</td>\n",
       "      <td>...</td>\n",
       "      <td>-1.0</td>\n",
       "      <td>-0.904762</td>\n",
       "      <td>0.660795</td>\n",
       "      <td>-0.724697</td>\n",
       "      <td>-0.928539</td>\n",
       "      <td>-0.989255</td>\n",
       "      <td>-0.986028</td>\n",
       "      <td>-0.984274</td>\n",
       "      <td>-0.990979</td>\n",
       "      <td>-0.995703</td>\n",
       "      <td>-0.989255</td>\n",
       "      <td>-0.999854</td>\n",
       "      <td>-0.993238</td>\n",
       "      <td>-0.736521</td>\n",
       "      <td>-0.794872</td>\n",
       "      <td>-0.212728</td>\n",
       "      <td>-0.535352</td>\n",
       "      <td>-0.871914</td>\n",
       "      <td>-0.995031</td>\n",
       "      <td>-0.995127</td>\n",
       "      <td>-0.994640</td>\n",
       "      <td>-0.996060</td>\n",
       "      <td>-0.995866</td>\n",
       "      <td>-0.995031</td>\n",
       "      <td>-0.999973</td>\n",
       "      <td>-0.993755</td>\n",
       "      <td>-1.000000</td>\n",
       "      <td>-0.555556</td>\n",
       "      <td>0.414503</td>\n",
       "      <td>-0.390748</td>\n",
       "      <td>-0.760104</td>\n",
       "      <td>-0.118559</td>\n",
       "      <td>0.177899</td>\n",
       "      <td>0.100699</td>\n",
       "      <td>0.808529</td>\n",
       "      <td>-0.848933</td>\n",
       "      <td>0.180637</td>\n",
       "      <td>-0.049118</td>\n",
       "      <td>1</td>\n",
       "      <td>STANDING</td>\n",
       "    </tr>\n",
       "    <tr>\n",
       "      <th>3</th>\n",
       "      <td>0.279174</td>\n",
       "      <td>-0.026201</td>\n",
       "      <td>-0.123283</td>\n",
       "      <td>-0.996091</td>\n",
       "      <td>-0.983403</td>\n",
       "      <td>-0.990675</td>\n",
       "      <td>-0.997099</td>\n",
       "      <td>-0.982750</td>\n",
       "      <td>-0.989302</td>\n",
       "      <td>-0.938692</td>\n",
       "      <td>-0.576159</td>\n",
       "      <td>-0.829711</td>\n",
       "      <td>0.843609</td>\n",
       "      <td>0.682401</td>\n",
       "      <td>0.837869</td>\n",
       "      <td>-0.986093</td>\n",
       "      <td>-0.999976</td>\n",
       "      <td>-0.999736</td>\n",
       "      <td>-0.999504</td>\n",
       "      <td>-0.997180</td>\n",
       "      <td>-0.983799</td>\n",
       "      <td>-0.986007</td>\n",
       "      <td>-0.627446</td>\n",
       "      <td>-0.850930</td>\n",
       "      <td>-0.911872</td>\n",
       "      <td>0.061436</td>\n",
       "      <td>0.074840</td>\n",
       "      <td>0.198204</td>\n",
       "      <td>-0.264307</td>\n",
       "      <td>0.072545</td>\n",
       "      <td>-0.155320</td>\n",
       "      <td>0.323154</td>\n",
       "      <td>-0.170813</td>\n",
       "      <td>0.294938</td>\n",
       "      <td>-0.306081</td>\n",
       "      <td>0.482148</td>\n",
       "      <td>-0.470129</td>\n",
       "      <td>-0.305693</td>\n",
       "      <td>-0.362654</td>\n",
       "      <td>0.507459</td>\n",
       "      <td>...</td>\n",
       "      <td>-1.0</td>\n",
       "      <td>1.000000</td>\n",
       "      <td>0.678921</td>\n",
       "      <td>-0.701131</td>\n",
       "      <td>-0.909639</td>\n",
       "      <td>-0.989413</td>\n",
       "      <td>-0.987836</td>\n",
       "      <td>-0.986850</td>\n",
       "      <td>-0.986749</td>\n",
       "      <td>-0.996199</td>\n",
       "      <td>-0.989413</td>\n",
       "      <td>-0.999876</td>\n",
       "      <td>-0.989136</td>\n",
       "      <td>-0.720891</td>\n",
       "      <td>-1.000000</td>\n",
       "      <td>-0.035684</td>\n",
       "      <td>-0.230091</td>\n",
       "      <td>-0.511217</td>\n",
       "      <td>-0.995221</td>\n",
       "      <td>-0.995237</td>\n",
       "      <td>-0.995722</td>\n",
       "      <td>-0.995273</td>\n",
       "      <td>-0.995732</td>\n",
       "      <td>-0.995221</td>\n",
       "      <td>-0.999974</td>\n",
       "      <td>-0.995226</td>\n",
       "      <td>-0.955696</td>\n",
       "      <td>-0.936508</td>\n",
       "      <td>0.404573</td>\n",
       "      <td>-0.117290</td>\n",
       "      <td>-0.482845</td>\n",
       "      <td>-0.036788</td>\n",
       "      <td>-0.012892</td>\n",
       "      <td>0.640011</td>\n",
       "      <td>-0.485366</td>\n",
       "      <td>-0.848649</td>\n",
       "      <td>0.181935</td>\n",
       "      <td>-0.047663</td>\n",
       "      <td>1</td>\n",
       "      <td>STANDING</td>\n",
       "    </tr>\n",
       "    <tr>\n",
       "      <th>4</th>\n",
       "      <td>0.276629</td>\n",
       "      <td>-0.016570</td>\n",
       "      <td>-0.115362</td>\n",
       "      <td>-0.998139</td>\n",
       "      <td>-0.980817</td>\n",
       "      <td>-0.990482</td>\n",
       "      <td>-0.998321</td>\n",
       "      <td>-0.979672</td>\n",
       "      <td>-0.990441</td>\n",
       "      <td>-0.942469</td>\n",
       "      <td>-0.569174</td>\n",
       "      <td>-0.824705</td>\n",
       "      <td>0.849095</td>\n",
       "      <td>0.683250</td>\n",
       "      <td>0.837869</td>\n",
       "      <td>-0.992653</td>\n",
       "      <td>-0.999991</td>\n",
       "      <td>-0.999856</td>\n",
       "      <td>-0.999757</td>\n",
       "      <td>-0.998004</td>\n",
       "      <td>-0.981232</td>\n",
       "      <td>-0.991325</td>\n",
       "      <td>-0.786553</td>\n",
       "      <td>-0.559477</td>\n",
       "      <td>-0.761434</td>\n",
       "      <td>0.313276</td>\n",
       "      <td>-0.131208</td>\n",
       "      <td>0.191161</td>\n",
       "      <td>0.086904</td>\n",
       "      <td>0.257615</td>\n",
       "      <td>-0.272505</td>\n",
       "      <td>0.434728</td>\n",
       "      <td>-0.315375</td>\n",
       "      <td>0.439744</td>\n",
       "      <td>-0.269069</td>\n",
       "      <td>0.179414</td>\n",
       "      <td>-0.088952</td>\n",
       "      <td>-0.155804</td>\n",
       "      <td>-0.189763</td>\n",
       "      <td>0.599213</td>\n",
       "      <td>...</td>\n",
       "      <td>-1.0</td>\n",
       "      <td>-1.000000</td>\n",
       "      <td>0.559058</td>\n",
       "      <td>-0.528901</td>\n",
       "      <td>-0.858933</td>\n",
       "      <td>-0.991433</td>\n",
       "      <td>-0.989059</td>\n",
       "      <td>-0.987744</td>\n",
       "      <td>-0.991462</td>\n",
       "      <td>-0.998353</td>\n",
       "      <td>-0.991433</td>\n",
       "      <td>-0.999902</td>\n",
       "      <td>-0.989321</td>\n",
       "      <td>-0.763372</td>\n",
       "      <td>-0.897436</td>\n",
       "      <td>-0.273582</td>\n",
       "      <td>-0.510282</td>\n",
       "      <td>-0.830702</td>\n",
       "      <td>-0.995093</td>\n",
       "      <td>-0.995465</td>\n",
       "      <td>-0.995279</td>\n",
       "      <td>-0.995609</td>\n",
       "      <td>-0.997418</td>\n",
       "      <td>-0.995093</td>\n",
       "      <td>-0.999974</td>\n",
       "      <td>-0.995487</td>\n",
       "      <td>-1.000000</td>\n",
       "      <td>-0.936508</td>\n",
       "      <td>0.087753</td>\n",
       "      <td>-0.351471</td>\n",
       "      <td>-0.699205</td>\n",
       "      <td>0.123320</td>\n",
       "      <td>0.122542</td>\n",
       "      <td>0.693578</td>\n",
       "      <td>-0.615971</td>\n",
       "      <td>-0.847865</td>\n",
       "      <td>0.185151</td>\n",
       "      <td>-0.043892</td>\n",
       "      <td>1</td>\n",
       "      <td>STANDING</td>\n",
       "    </tr>\n",
       "  </tbody>\n",
       "</table>\n",
       "<p>5 rows × 563 columns</p>\n",
       "</div>"
      ],
      "text/plain": [
       "   tBodyAcc-mean()-X  tBodyAcc-mean()-Y  ...  subject  Activity\n",
       "0           0.288585          -0.020294  ...        1  STANDING\n",
       "1           0.278419          -0.016411  ...        1  STANDING\n",
       "2           0.279653          -0.019467  ...        1  STANDING\n",
       "3           0.279174          -0.026201  ...        1  STANDING\n",
       "4           0.276629          -0.016570  ...        1  STANDING\n",
       "\n",
       "[5 rows x 563 columns]"
      ]
     },
     "execution_count": 2,
     "metadata": {
      "tags": []
     },
     "output_type": "execute_result"
    }
   ],
   "source": [
    "df = pd.read_csv(\"https://query.data.world/s/mdbcjhigxvf3ytaewaep4qow3acqxo\")\n",
    "df.head(5)"
   ]
  },
  {
   "cell_type": "code",
   "execution_count": 33,
   "metadata": {
    "colab": {
     "base_uri": "https://localhost:8080/",
     "height": 34
    },
    "colab_type": "code",
    "id": "Y0W-STMcWrxh",
    "outputId": "7a37861f-1a4a-4861-bba3-13824e9fb859"
   },
   "outputs": [
    {
     "data": {
      "text/plain": [
       "(7352, 563)"
      ]
     },
     "execution_count": 33,
     "metadata": {
      "tags": []
     },
     "output_type": "execute_result"
    }
   ],
   "source": [
    "df.shape"
   ]
  },
  {
   "cell_type": "code",
   "execution_count": 11,
   "metadata": {
    "colab": {
     "base_uri": "https://localhost:8080/",
     "height": 374
    },
    "colab_type": "code",
    "id": "mjnG0L69ORxd",
    "outputId": "923a340c-963f-4383-aa4b-b952eec91cc6"
   },
   "outputs": [
    {
     "data": {
      "text/plain": [
       "fBodyGyro               79\n",
       "fBodyAccJerk            79\n",
       "fBodyAcc                79\n",
       "tGravityAcc             40\n",
       "tBodyGyroJerk           40\n",
       "tBodyAccJerk            40\n",
       "tBodyGyro               40\n",
       "tBodyAcc                40\n",
       "fBodyBodyGyroJerkMag    13\n",
       "tGravityAccMag          13\n",
       "tBodyGyroMag            13\n",
       "fBodyAccMag             13\n",
       "tBodyAccJerkMag         13\n",
       "tBodyAccMag             13\n",
       "fBodyBodyAccJerkMag     13\n",
       "fBodyBodyGyroMag        13\n",
       "tBodyGyroJerkMag        13\n",
       "angle                    7\n",
       "subject                  1\n",
       "Activity                 1\n",
       "dtype: int64"
      ]
     },
     "execution_count": 11,
     "metadata": {
      "tags": []
     },
     "output_type": "execute_result"
    }
   ],
   "source": [
    "pd.Series([col.split('-')[0].split('(')[0] for col in df.columns]).value_counts()"
   ]
  },
  {
   "cell_type": "code",
   "execution_count": 18,
   "metadata": {
    "colab": {
     "base_uri": "https://localhost:8080/",
     "height": 136
    },
    "colab_type": "code",
    "id": "6Bu8BHQkOjAf",
    "outputId": "2bc751ac-28dc-481b-dbcf-7d4c184f1b0e"
   },
   "outputs": [
    {
     "data": {
      "text/plain": [
       "LAYING                1407\n",
       "STANDING              1374\n",
       "SITTING               1286\n",
       "WALKING               1226\n",
       "WALKING_UPSTAIRS      1073\n",
       "WALKING_DOWNSTAIRS     986\n",
       "Name: Activity, dtype: int64"
      ]
     },
     "execution_count": 18,
     "metadata": {
      "tags": []
     },
     "output_type": "execute_result"
    }
   ],
   "source": [
    "df.Activity.value_counts()"
   ]
  },
  {
   "cell_type": "code",
   "execution_count": 19,
   "metadata": {
    "colab": {
     "base_uri": "https://localhost:8080/",
     "height": 136
    },
    "colab_type": "code",
    "id": "pBWVW_bEPSSU",
    "outputId": "a458d04e-3154-4004-84b8-9cfe2426089f"
   },
   "outputs": [
    {
     "data": {
      "text/plain": [
       "LAYING                0.191376\n",
       "STANDING              0.186888\n",
       "SITTING               0.174918\n",
       "WALKING               0.166757\n",
       "WALKING_UPSTAIRS      0.145947\n",
       "WALKING_DOWNSTAIRS    0.134113\n",
       "Name: Activity, dtype: float64"
      ]
     },
     "execution_count": 19,
     "metadata": {
      "tags": []
     },
     "output_type": "execute_result"
    }
   ],
   "source": [
    "df.Activity.value_counts(normalize=True)"
   ]
  },
  {
   "cell_type": "code",
   "execution_count": 20,
   "metadata": {
    "colab": {
     "base_uri": "https://localhost:8080/",
     "height": 392
    },
    "colab_type": "code",
    "id": "8lN2EP-xQm0q",
    "outputId": "ca555d1d-9de2-460f-cc1e-b2f83dcfde32"
   },
   "outputs": [
    {
     "data": {
      "text/plain": [
       "<matplotlib.axes._subplots.AxesSubplot at 0x7f56d29f7908>"
      ]
     },
     "execution_count": 20,
     "metadata": {
      "tags": []
     },
     "output_type": "execute_result"
    },
    {
     "data": {
      "image/png": "[encoded data removed]",
      "text/plain": [
       "<Figure size 432x288 with 1 Axes>"
      ]
     },
     "metadata": {
      "tags": []
     },
     "output_type": "display_data"
    }
   ],
   "source": [
    "df.Activity.value_counts().plot(kind='bar')"
   ]
  },
  {
   "cell_type": "code",
   "execution_count": 25,
   "metadata": {
    "colab": {
     "base_uri": "https://localhost:8080/",
     "height": 623
    },
    "colab_type": "code",
    "id": "7j7N6y1HQyCo",
    "outputId": "fe99fe5d-6b74-4b13-bb36-7455133b04a6"
   },
   "outputs": [
    {
     "data": {
      "text/plain": [
       "<matplotlib.axes._subplots.AxesSubplot at 0x7f56cf865780>"
      ]
     },
     "execution_count": 25,
     "metadata": {
      "tags": []
     },
     "output_type": "execute_result"
    },
    {
     "data": {
      "image/png": "[encoded data removed]",
      "text/plain": [
       "<Figure size 1440x720 with 1 Axes>"
      ]
     },
     "metadata": {
      "tags": []
     },
     "output_type": "display_data"
    }
   ],
   "source": [
    "plt.figure(figsize=(20,10))\n",
    "d1 = df.loc[df['Activity']=='LAYING']\n",
    "d2 = df.loc[df['Activity']=='STANDING']\n",
    "d3 = df.loc[df['Activity']=='SITTING']\n",
    "d4 = df.loc[df['Activity']=='WALKING']\n",
    "d5 = df.loc[df['Activity']=='WALKING_UPSTAIRS']\n",
    "d6 = df.loc[df['Activity']=='WALKING_DOWNSTAIRS']\n",
    "sns.distplot(d1['tBodyAccMag-mean()'], hist=False, color = 'g')\n",
    "sns.distplot(d2['tBodyAccMag-mean()'], hist=False, color = 'r')\n",
    "sns.distplot(d3['tBodyAccMag-mean()'], hist=False, color = 'b')\n",
    "sns.distplot(d4['tBodyAccMag-mean()'], hist=False, color = 'y')\n",
    "sns.distplot(d5['tBodyAccMag-mean()'], hist=False, color = 'black')\n",
    "sns.distplot(d6['tBodyAccMag-mean()'], hist=False, color = 'deepskyblue')"
   ]
  },
  {
   "cell_type": "code",
   "execution_count": 28,
   "metadata": {
    "colab": {
     "base_uri": "https://localhost:8080/",
     "height": 204
    },
    "colab_type": "code",
    "id": "GUFfsTw-UoIW",
    "outputId": "ef21758b-e442-4722-ff80-d1ac6465ae3b"
   },
   "outputs": [
    {
     "data": {
      "text/plain": [
       "Index(['tBodyAcc-mean()-X', 'tBodyAcc-mean()-Y', 'tBodyAcc-mean()-Z',\n",
       "       'tBodyAcc-std()-X', 'tBodyAcc-std()-Y', 'tBodyAcc-std()-Z',\n",
       "       'tBodyAcc-mad()-X', 'tBodyAcc-mad()-Y', 'tBodyAcc-mad()-Z',\n",
       "       'tBodyAcc-max()-X',\n",
       "       ...\n",
       "       'fBodyBodyGyroJerkMag-kurtosis()', 'angle(tBodyAccMean,gravity)',\n",
       "       'angle(tBodyAccJerkMean),gravityMean)',\n",
       "       'angle(tBodyGyroMean,gravityMean)',\n",
       "       'angle(tBodyGyroJerkMean,gravityMean)', 'angle(X,gravityMean)',\n",
       "       'angle(Y,gravityMean)', 'angle(Z,gravityMean)', 'subject', 'Activity'],\n",
       "      dtype='object', length=563)"
      ]
     },
     "execution_count": 28,
     "metadata": {
      "tags": []
     },
     "output_type": "execute_result"
    }
   ],
   "source": [
    "df.columns"
   ]
  },
  {
   "cell_type": "code",
   "execution_count": 32,
   "metadata": {
    "colab": {
     "base_uri": "https://localhost:8080/",
     "height": 623
    },
    "colab_type": "code",
    "id": "cPyCt5XtVCqp",
    "outputId": "58f72997-c2e0-4ee9-acee-e04cd3ac5150"
   },
   "outputs": [
    {
     "data": {
      "text/plain": [
       "<matplotlib.axes._subplots.AxesSubplot at 0x7f56cf791198>"
      ]
     },
     "execution_count": 32,
     "metadata": {
      "tags": []
     },
     "output_type": "execute_result"
    },
    {
     "data": {
      "image/png": "[encoded data removed]",
      "text/plain": [
       "<Figure size 1440x720 with 1 Axes>"
      ]
     },
     "metadata": {
      "tags": []
     },
     "output_type": "display_data"
    }
   ],
   "source": [
    "plt.figure(figsize=(20,10))\n",
    "sns.boxplot(x='Activity', y='tBodyAccMag-mean()', data=df, showfliers = False)"
   ]
  },
  {
   "cell_type": "code",
   "execution_count": 36,
   "metadata": {
    "colab": {
     "base_uri": "https://localhost:8080/",
     "height": 624
    },
    "colab_type": "code",
    "id": "SL0x_FxKWpU2",
    "outputId": "a25946eb-834d-4ade-e451-abef39f652f1"
   },
   "outputs": [
    {
     "data": {
      "text/plain": [
       "<matplotlib.axes._subplots.AxesSubplot at 0x7f56d3ba8ef0>"
      ]
     },
     "execution_count": 36,
     "metadata": {
      "tags": []
     },
     "output_type": "execute_result"
    },
    {
     "data": {
      "image/png": "[encoded data removed]",
      "text/plain": [
       "<Figure size 1440x720 with 1 Axes>"
      ]
     },
     "metadata": {
      "tags": []
     },
     "output_type": "display_data"
    }
   ],
   "source": [
    "plt.figure(figsize=(20,10))\n",
    "sns.boxplot(x='Activity', y='angle(X,gravityMean)', data=df, showfliers = False)"
   ]
  },
  {
   "cell_type": "code",
   "execution_count": 37,
   "metadata": {
    "colab": {
     "base_uri": "https://localhost:8080/",
     "height": 623
    },
    "colab_type": "code",
    "id": "gWiD-C8nXXG5",
    "outputId": "18693625-1d7f-4dd3-9582-121cb3917543"
   },
   "outputs": [
    {
     "data": {
      "text/plain": [
       "<matplotlib.axes._subplots.AxesSubplot at 0x7f56cf2a8518>"
      ]
     },
     "execution_count": 37,
     "metadata": {
      "tags": []
     },
     "output_type": "execute_result"
    },
    {
     "data": {
      "image/png": "[encoded data removed]",
      "text/plain": [
       "<Figure size 1440x720 with 1 Axes>"
      ]
     },
     "metadata": {
      "tags": []
     },
     "output_type": "display_data"
    }
   ],
   "source": [
    "plt.figure(figsize=(20,10))\n",
    "sns.boxplot(x='Activity', y='angle(Y,gravityMean)', data=df, showfliers = False)"
   ]
  },
  {
   "cell_type": "code",
   "execution_count": 0,
   "metadata": {
    "colab": {},
    "colab_type": "code",
    "id": "MIWHT97RZM8E"
   },
   "outputs": [],
   "source": [
    "X = df.drop(['subject', 'Activity'], axis = 1)\n",
    "y = df.Activity"
   ]
  },
  {
   "cell_type": "code",
   "execution_count": 0,
   "metadata": {
    "colab": {},
    "colab_type": "code",
    "id": "bbsm9u-7Zebv"
   },
   "outputs": [],
   "source": [
    "from sklearn.model_selection import train_test_split\n",
    "X_train, X_test, y_train, y_test = train_test_split(X,y, train_size=0.7, random_state=100)"
   ]
  },
  {
   "cell_type": "code",
   "execution_count": 44,
   "metadata": {
    "colab": {
     "base_uri": "https://localhost:8080/",
     "height": 34
    },
    "colab_type": "code",
    "id": "9s9-nD2AZ_d-",
    "outputId": "0f6849ab-c52d-4d3a-8ee7-f74dc923e95d"
   },
   "outputs": [
    {
     "data": {
      "text/plain": [
       "-17.440432802691102"
      ]
     },
     "execution_count": 44,
     "metadata": {
      "tags": []
     },
     "output_type": "execute_result"
    }
   ],
   "source": [
    "from sklearn.preprocessing import StandardScaler\n",
    "scaler = StandardScaler()\n",
    "X_train = scaler.fit_transform(X_train)\n",
    "X_test = scaler.transform(X_test)\n",
    "X_train.min()"
   ]
  },
  {
   "cell_type": "markdown",
   "metadata": {
    "colab_type": "text",
    "id": "zfu3Tg8uk7Sq"
   },
   "source": [
    "Logistic Regression"
   ]
  },
  {
   "cell_type": "code",
   "execution_count": 47,
   "metadata": {
    "colab": {
     "base_uri": "https://localhost:8080/",
     "height": 476
    },
    "colab_type": "code",
    "id": "nGeQugy-cA8K",
    "outputId": "c63796aa-0ae3-4c7e-b159-1094ae6d91d5"
   },
   "outputs": [
    {
     "name": "stdout",
     "output_type": "stream",
     "text": [
      "[[-0.14067754 -0.151825    0.01074301 ...  0.87316477 -0.45662191\n",
      "  -0.10079308]\n",
      " [-0.26919083 -0.05462373 -0.06544308 ... -0.26751939 -0.57144429\n",
      "  -0.09428521]\n",
      " [ 0.27844422  0.16454218  0.00350739 ... -0.51702041  0.91533029\n",
      "   0.12826139]\n",
      " [-0.01691715 -0.14347504  0.1350873  ... -0.13238054  0.02418576\n",
      "   0.06763329]\n",
      " [ 0.14973931  0.20885451  0.1257947  ... -0.09488857 -0.14371817\n",
      "  -0.08230101]\n",
      " [-0.001398   -0.02347291 -0.20968933 ...  0.13864413  0.23226832\n",
      "   0.08148462]]\n",
      "[ 0.06733237  0.00603346 -0.04826276  0.14806404 -0.11347196 -0.05969515]\n"
     ]
    },
    {
     "name": "stderr",
     "output_type": "stream",
     "text": [
      "/usr/local/lib/python3.6/dist-packages/sklearn/linear_model/_logistic.py:940: ConvergenceWarning: lbfgs failed to converge (status=1):\n",
      "STOP: TOTAL NO. of ITERATIONS REACHED LIMIT.\n",
      "\n",
      "Increase the number of iterations (max_iter) or scale the data as shown in:\n",
      "    https://scikit-learn.org/stable/modules/preprocessing.html\n",
      "Please also refer to the documentation for alternative solver options:\n",
      "    https://scikit-learn.org/stable/modules/linear_model.html#logistic-regression\n",
      "  extra_warning_msg=_LOGISTIC_SOLVER_CONVERGENCE_MSG)\n"
     ]
    },
    {
     "data": {
      "text/plain": [
       "array([[419,   0,   0,   0,   0,   0],\n",
       "       [  0, 370,  15,   0,   0,   1],\n",
       "       [  0,  11, 399,   0,   0,   0],\n",
       "       [  0,   0,   0, 356,   0,   0],\n",
       "       [  0,   0,   0,   0, 316,   0],\n",
       "       [  0,   0,   0,   0,   1, 318]])"
      ]
     },
     "execution_count": 47,
     "metadata": {
      "tags": []
     },
     "output_type": "execute_result"
    }
   ],
   "source": [
    "from sklearn.linear_model import LogisticRegression\n",
    "from sklearn.metrics import confusion_matrix\n",
    "lr = LogisticRegression()\n",
    "lr.fit(X_train, y_train)\n",
    "print(lr.coef_)\n",
    "print(lr.intercept_)\n",
    "y_pred = lr.predict(X_test)\n",
    "confusion_matrix(y_test, y_pred)"
   ]
  },
  {
   "cell_type": "code",
   "execution_count": 48,
   "metadata": {
    "colab": {
     "base_uri": "https://localhost:8080/",
     "height": 34
    },
    "colab_type": "code",
    "id": "3YwtZZpKe8rq",
    "outputId": "4e3c89f7-1ce6-431b-ff5f-ecde70a067c2"
   },
   "outputs": [
    {
     "name": "stdout",
     "output_type": "stream",
     "text": [
      "0.9873073436083409\n"
     ]
    }
   ],
   "source": [
    "score = lr.score(X_test, y_test)\n",
    "print(score)"
   ]
  },
  {
   "cell_type": "code",
   "execution_count": 52,
   "metadata": {
    "colab": {
     "base_uri": "https://localhost:8080/",
     "height": 34
    },
    "colab_type": "code",
    "id": "Pm0DPQjNfZk0",
    "outputId": "9a959a75-979a-460a-b50e-66253c2cf186"
   },
   "outputs": [
    {
     "name": "stdout",
     "output_type": "stream",
     "text": [
      "0.9873073436083409\n"
     ]
    }
   ],
   "source": [
    "from sklearn import metrics\n",
    "print(metrics.accuracy_score(y_test, y_pred))"
   ]
  },
  {
   "cell_type": "code",
   "execution_count": 53,
   "metadata": {
    "colab": {
     "base_uri": "https://localhost:8080/",
     "height": 238
    },
    "colab_type": "code",
    "id": "l642t2SGftHY",
    "outputId": "d336a64a-ac2b-409e-fbdf-c4a0011a8c31"
   },
   "outputs": [
    {
     "name": "stdout",
     "output_type": "stream",
     "text": [
      "                    precision    recall  f1-score   support\n",
      "\n",
      "            LAYING       1.00      1.00      1.00       419\n",
      "           SITTING       0.97      0.96      0.96       386\n",
      "          STANDING       0.96      0.97      0.97       410\n",
      "           WALKING       1.00      1.00      1.00       356\n",
      "WALKING_DOWNSTAIRS       1.00      1.00      1.00       316\n",
      "  WALKING_UPSTAIRS       1.00      1.00      1.00       319\n",
      "\n",
      "          accuracy                           0.99      2206\n",
      "         macro avg       0.99      0.99      0.99      2206\n",
      "      weighted avg       0.99      0.99      0.99      2206\n",
      "\n"
     ]
    }
   ],
   "source": [
    "print(metrics.classification_report(y_test, y_pred))"
   ]
  },
  {
   "cell_type": "markdown",
   "metadata": {
    "colab_type": "text",
    "id": "SRgUodxUkziA"
   },
   "source": [
    "Linear Kernel - SVM"
   ]
  },
  {
   "cell_type": "code",
   "execution_count": 0,
   "metadata": {
    "colab": {},
    "colab_type": "code",
    "id": "DzTJBT46hPF5"
   },
   "outputs": [],
   "source": [
    "from sklearn.svm import SVC\n",
    "model = SVC(kernel='linear')\n",
    "# fit\n",
    "model.fit(X_train, y_train)\n",
    "# predict\n",
    "y_pred = model.predict(X_test)"
   ]
  },
  {
   "cell_type": "code",
   "execution_count": 62,
   "metadata": {
    "colab": {
     "base_uri": "https://localhost:8080/",
     "height": 255
    },
    "colab_type": "code",
    "id": "VzvvtGfxitC5",
    "outputId": "e9b8776b-dc87-482f-fdfd-aacee11e17d9"
   },
   "outputs": [
    {
     "name": "stdout",
     "output_type": "stream",
     "text": [
      "accuracy 0.9832275611967362\n",
      "                    precision    recall  f1-score   support\n",
      "\n",
      "            LAYING       1.00      1.00      1.00       419\n",
      "           SITTING       0.96      0.95      0.96       386\n",
      "          STANDING       0.96      0.96      0.96       410\n",
      "           WALKING       1.00      1.00      1.00       356\n",
      "WALKING_DOWNSTAIRS       0.99      1.00      1.00       316\n",
      "  WALKING_UPSTAIRS       0.99      0.99      0.99       319\n",
      "\n",
      "          accuracy                           0.98      2206\n",
      "         macro avg       0.98      0.98      0.98      2206\n",
      "      weighted avg       0.98      0.98      0.98      2206\n",
      "\n"
     ]
    }
   ],
   "source": [
    "print(\"accuracy\", metrics.accuracy_score(y_test, y_pred))\n",
    "# precision\n",
    "print(metrics.classification_report(y_test, y_pred))"
   ]
  },
  {
   "cell_type": "code",
   "execution_count": 63,
   "metadata": {
    "colab": {
     "base_uri": "https://localhost:8080/",
     "height": 119
    },
    "colab_type": "code",
    "id": "gM2c6R4ijcIg",
    "outputId": "c2a2c8e2-4146-4cc6-cfc0-7cb07b5792f1"
   },
   "outputs": [
    {
     "name": "stdout",
     "output_type": "stream",
     "text": [
      "[[419   0   0   0   0   0]\n",
      " [  0 368  17   0   0   1]\n",
      " [  0  16 394   0   0   0]\n",
      " [  0   0   0 356   0   0]\n",
      " [  0   0   0   0 315   1]\n",
      " [  0   0   0   0   2 317]]\n"
     ]
    }
   ],
   "source": [
    "print(confusion_matrix(y_test, y_pred))"
   ]
  },
  {
   "cell_type": "markdown",
   "metadata": {
    "colab_type": "text",
    "id": "N1ah0C38kuiU"
   },
   "source": [
    "Non Linear Kernel - SVM"
   ]
  },
  {
   "cell_type": "code",
   "execution_count": 64,
   "metadata": {
    "colab": {
     "base_uri": "https://localhost:8080/",
     "height": 357
    },
    "colab_type": "code",
    "id": "H8v9qHyJkZgo",
    "outputId": "a8e9e8bc-2846-4f5b-a2ea-fbdc773f1b37"
   },
   "outputs": [
    {
     "name": "stdout",
     "output_type": "stream",
     "text": [
      "accuracy 0.9759746146872167\n",
      "                    precision    recall  f1-score   support\n",
      "\n",
      "            LAYING       1.00      1.00      1.00       419\n",
      "           SITTING       0.94      0.93      0.93       386\n",
      "          STANDING       0.94      0.95      0.94       410\n",
      "           WALKING       1.00      1.00      1.00       356\n",
      "WALKING_DOWNSTAIRS       0.99      1.00      1.00       316\n",
      "  WALKING_UPSTAIRS       1.00      1.00      1.00       319\n",
      "\n",
      "          accuracy                           0.98      2206\n",
      "         macro avg       0.98      0.98      0.98      2206\n",
      "      weighted avg       0.98      0.98      0.98      2206\n",
      "\n",
      "[[417   0   0   0   2   0]\n",
      " [  1 358  26   0   0   1]\n",
      " [  0  22 388   0   0   0]\n",
      " [  0   0   0 355   1   0]\n",
      " [  0   0   0   0 316   0]\n",
      " [  0   0   0   0   0 319]]\n"
     ]
    }
   ],
   "source": [
    "model = SVC(kernel='rbf')\n",
    "model.fit(X_train, y_train)\n",
    "y_pred = model.predict(X_test)\n",
    "print(\"accuracy\", metrics.accuracy_score(y_test, y_pred))\n",
    "# precision\n",
    "print(metrics.classification_report(y_test, y_pred))\n",
    "print(confusion_matrix(y_test, y_pred))"
   ]
  },
  {
   "cell_type": "code",
   "execution_count": 0,
   "metadata": {
    "colab": {},
    "colab_type": "code",
    "id": "WeKvry21mJff"
   },
   "outputs": [],
   "source": [
    "from sklearn.model_selection import KFold\n",
    "from sklearn.model_selection import cross_val_score\n",
    "from sklearn.model_selection import GridSearchCV"
   ]
  },
  {
   "cell_type": "code",
   "execution_count": 77,
   "metadata": {
    "colab": {
     "base_uri": "https://localhost:8080/",
     "height": 238
    },
    "colab_type": "code",
    "id": "C0pUp3FAkjEm",
    "outputId": "7252cf11-1897-4eca-88ea-8914b2e9cac6"
   },
   "outputs": [
    {
     "data": {
      "text/plain": [
       "GridSearchCV(cv=None, error_score=nan,\n",
       "             estimator=SVC(C=1.0, break_ties=False, cache_size=200,\n",
       "                           class_weight=None, coef0=0.0,\n",
       "                           decision_function_shape='ovr', degree=3,\n",
       "                           gamma='scale', kernel='linear', max_iter=-1,\n",
       "                           probability=False, random_state=None, shrinking=True,\n",
       "                           tol=0.001, verbose=False),\n",
       "             iid='deprecated', n_jobs=None,\n",
       "             param_grid={'C': [0.1, 0.2, 0.30000000000000004, 0.4, 0.5,\n",
       "                               0.6000000000000001, 0.7000000000000001, 0.8,\n",
       "                               0.9]},\n",
       "             pre_dispatch='2*n_jobs', refit=True, return_train_score=False,\n",
       "             scoring='accuracy', verbose=0)"
      ]
     },
     "execution_count": 77,
     "metadata": {
      "tags": []
     },
     "output_type": "execute_result"
    }
   ],
   "source": [
    "from sklearn import svm\n",
    "from sklearn.model_selection import GridSearchCV\n",
    "param = {'C': list(np.arange(0,1,0.1))[1:]}\n",
    "svm_linear_grid = svm.SVC(kernel = \"linear\")\n",
    "clf = GridSearchCV(svm_linear_grid, param_grid = param, scoring = \"accuracy\")\n",
    "clf.fit(X_train, y_train)"
   ]
  },
  {
   "cell_type": "code",
   "execution_count": 78,
   "metadata": {
    "colab": {
     "base_uri": "https://localhost:8080/",
     "height": 51
    },
    "colab_type": "code",
    "id": "MsgnEDBhokXJ",
    "outputId": "c567b790-b351-4bbd-a743-ef7029f7a259"
   },
   "outputs": [
    {
     "name": "stdout",
     "output_type": "stream",
     "text": [
      "0.9819272174889374\n",
      "{'C': 0.1}\n"
     ]
    }
   ],
   "source": [
    "print(clf.best_score_)\n",
    "print(clf.best_params_)"
   ]
  },
  {
   "cell_type": "code",
   "execution_count": 81,
   "metadata": {
    "colab": {
     "base_uri": "https://localhost:8080/",
     "height": 357
    },
    "colab_type": "code",
    "id": "m4I7GjsUpTr1",
    "outputId": "4c59efaf-6f7f-4f41-d074-2a2d15b1b4c3"
   },
   "outputs": [
    {
     "name": "stdout",
     "output_type": "stream",
     "text": [
      "0.9832275611967362\n",
      "                    precision    recall  f1-score   support\n",
      "\n",
      "            LAYING       1.00      1.00      1.00       419\n",
      "           SITTING       0.96      0.95      0.96       386\n",
      "          STANDING       0.96      0.96      0.96       410\n",
      "           WALKING       1.00      1.00      1.00       356\n",
      "WALKING_DOWNSTAIRS       0.99      1.00      1.00       316\n",
      "  WALKING_UPSTAIRS       0.99      0.99      0.99       319\n",
      "\n",
      "          accuracy                           0.98      2206\n",
      "         macro avg       0.98      0.98      0.98      2206\n",
      "      weighted avg       0.98      0.98      0.98      2206\n",
      "\n",
      "[[419   0   0   0   0   0]\n",
      " [  0 368  17   0   0   1]\n",
      " [  0  16 394   0   0   0]\n",
      " [  0   0   0 356   0   0]\n",
      " [  0   0   0   0 315   1]\n",
      " [  0   0   0   0   2 317]]\n"
     ]
    }
   ],
   "source": [
    "from sklearn import svm\n",
    "svm_linear = svm.SVC(kernel = 'linear')\n",
    "svm_linear.fit(X_train, y_train)\n",
    "\n",
    "y_pred = svm_linear.predict(X_test)\n",
    "\n",
    "print(metrics.accuracy_score(y_test, y_pred))\n",
    "print(metrics.classification_report(y_test, y_pred))\n",
    "print(metrics.confusion_matrix(y_test, y_pred))"
   ]
  },
  {
   "cell_type": "code",
   "execution_count": 80,
   "metadata": {
    "colab": {
     "base_uri": "https://localhost:8080/",
     "height": 357
    },
    "colab_type": "code",
    "id": "WeAHJeZopPmG",
    "outputId": "10364765-135e-44f5-c2c3-7b9b24fff239"
   },
   "outputs": [
    {
     "name": "stdout",
     "output_type": "stream",
     "text": [
      "0.985947416137806\n",
      "                    precision    recall  f1-score   support\n",
      "\n",
      "            LAYING       1.00      1.00      1.00       419\n",
      "           SITTING       0.97      0.96      0.96       386\n",
      "          STANDING       0.96      0.97      0.97       410\n",
      "           WALKING       1.00      1.00      1.00       356\n",
      "WALKING_DOWNSTAIRS       0.99      1.00      1.00       316\n",
      "  WALKING_UPSTAIRS       0.99      0.99      0.99       319\n",
      "\n",
      "          accuracy                           0.99      2206\n",
      "         macro avg       0.99      0.99      0.99      2206\n",
      "      weighted avg       0.99      0.99      0.99      2206\n",
      "\n",
      "[[419   0   0   0   0   0]\n",
      " [  0 370  15   0   0   1]\n",
      " [  0  12 398   0   0   0]\n",
      " [  0   0   0 356   0   0]\n",
      " [  0   0   0   0 315   1]\n",
      " [  0   0   0   0   2 317]]\n"
     ]
    }
   ],
   "source": [
    "from sklearn import svm\n",
    "svm_linear = svm.SVC(kernel = 'linear', C = 0.1)\n",
    "svm_linear.fit(X_train, y_train)\n",
    "\n",
    "y_pred = svm_linear.predict(X_test)\n",
    "\n",
    "print(metrics.accuracy_score(y_test, y_pred))\n",
    "print(metrics.classification_report(y_test, y_pred))\n",
    "print(metrics.confusion_matrix(y_test, y_pred))"
   ]
  },
  {
   "cell_type": "code",
   "execution_count": 79,
   "metadata": {
    "colab": {
     "base_uri": "https://localhost:8080/",
     "height": 357
    },
    "colab_type": "code",
    "id": "q9aAdV-moyAg",
    "outputId": "0f78badc-2dff-4cf6-d541-cac8f19431f1"
   },
   "outputs": [
    {
     "name": "stdout",
     "output_type": "stream",
     "text": [
      "0.9868540344514959\n",
      "                    precision    recall  f1-score   support\n",
      "\n",
      "            LAYING       1.00      1.00      1.00       419\n",
      "           SITTING       0.97      0.96      0.97       386\n",
      "          STANDING       0.97      0.97      0.97       410\n",
      "           WALKING       1.00      1.00      1.00       356\n",
      "WALKING_DOWNSTAIRS       0.99      1.00      1.00       316\n",
      "  WALKING_UPSTAIRS       0.99      0.99      0.99       319\n",
      "\n",
      "          accuracy                           0.99      2206\n",
      "         macro avg       0.99      0.99      0.99      2206\n",
      "      weighted avg       0.99      0.99      0.99      2206\n",
      "\n",
      "[[419   0   0   0   0   0]\n",
      " [  0 372  13   0   0   1]\n",
      " [  0  12 398   0   0   0]\n",
      " [  0   0   0 356   0   0]\n",
      " [  0   0   0   0 315   1]\n",
      " [  0   0   0   0   2 317]]\n"
     ]
    }
   ],
   "source": [
    "from sklearn import svm\n",
    "svm_linear = svm.SVC(kernel = 'linear', C = 0.1, class_weight = 'balanced')\n",
    "svm_linear.fit(X_train, y_train)\n",
    "\n",
    "y_pred = svm_linear.predict(X_test)\n",
    "\n",
    "print(metrics.accuracy_score(y_test, y_pred))\n",
    "print(metrics.classification_report(y_test, y_pred))\n",
    "print(metrics.confusion_matrix(y_test, y_pred))"
   ]
  }
 ],
 "metadata": {
  "accelerator": "GPU",
  "colab": {
   "collapsed_sections": [],
   "name": "SVM Experiments - Human Activity Recognition with Smartphones",
   "provenance": []
  },
  "kernelspec": {
   "display_name": "Python 3",
   "language": "python",
   "name": "python3"
  },
  "language_info": {
   "codemirror_mode": {
    "name": "ipython",
    "version": 3
   },
   "file_extension": ".py",
   "mimetype": "text/x-python",
   "name": "python",
   "nbconvert_exporter": "python",
   "pygments_lexer": "ipython3",
   "version": "3.7.3"
  }
 },
 "nbformat": 4,
 "nbformat_minor": 1
}
